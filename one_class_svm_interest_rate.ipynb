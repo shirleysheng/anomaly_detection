{
  "nbformat": 4,
  "nbformat_minor": 0,
  "metadata": {
    "colab": {
      "name": "one_class_svm_interest_rate.ipynb",
      "provenance": [],
      "authorship_tag": "ABX9TyNIzjoBhLW/7BvRWZNobr9L",
      "include_colab_link": true
    },
    "kernelspec": {
      "name": "python3",
      "display_name": "Python 3"
    }
  },
  "cells": [
    {
      "cell_type": "markdown",
      "metadata": {
        "id": "view-in-github",
        "colab_type": "text"
      },
      "source": [
        "<a href=\"https://colab.research.google.com/github/shirleysheng/anomaly_detection/blob/master/one_class_svm_interest_rate.ipynb\" target=\"_parent\"><img src=\"https://colab.research.google.com/assets/colab-badge.svg\" alt=\"Open In Colab\"/></a>"
      ]
    },
    {
      "cell_type": "code",
      "metadata": {
        "id": "bm4vutAyQOP2",
        "colab_type": "code",
        "outputId": "2b5fbe4b-3f1e-47f7-a85d-5d8c1bdf394b",
        "colab": {
          "base_uri": "https://localhost:8080/",
          "height": 265
        }
      },
      "source": [
        "import numpy as np\n",
        "import pandas as pd\n",
        "import matplotlib.pyplot as plt\n",
        "from sklearn.svm import OneClassSVM \n",
        "\n",
        "data = pd.read_csv('/content/IRs.csv',index_col=0)\n",
        "data.index = pd.to_datetime(data.index)\n",
        "interest_rate = data.dropna()\n",
        "\n",
        "feature1 = plt.scatter(interest_rate.index, data.iloc[:,1])\n",
        "\n"
      ],
      "execution_count": 0,
      "outputs": [
        {
          "output_type": "display_data",
          "data": {
            "image/png": "[encoded data removed]",
            "text/plain": [
              "<Figure size 432x288 with 1 Axes>"
            ]
          },
          "metadata": {
            "tags": [],
            "needs_background": "light"
          }
        }
      ]
    },
    {
      "cell_type": "code",
      "metadata": {
        "id": "mnVGk853bpEX",
        "colab_type": "code",
        "outputId": "250266ea-98d0-4f67-9a34-e67dd2d0b508",
        "colab": {
          "base_uri": "https://localhost:8080/",
          "height": 235
        }
      },
      "source": [
        "interest_rate.head()"
      ],
      "execution_count": 0,
      "outputs": [
        {
          "output_type": "execute_result",
          "data": {
            "text/html": [
              "<div>\n",
              "<style scoped>\n",
              "    .dataframe tbody tr th:only-of-type {\n",
              "        vertical-align: middle;\n",
              "    }\n",
              "\n",
              "    .dataframe tbody tr th {\n",
              "        vertical-align: top;\n",
              "    }\n",
              "\n",
              "    .dataframe thead th {\n",
              "        text-align: right;\n",
              "    }\n",
              "</style>\n",
              "<table border=\"1\" class=\"dataframe\">\n",
              "  <thead>\n",
              "    <tr style=\"text-align: right;\">\n",
              "      <th></th>\n",
              "      <th>1 Mo</th>\n",
              "      <th>3 Mo</th>\n",
              "      <th>6 Mo</th>\n",
              "      <th>1 Yr</th>\n",
              "      <th>2 Yr</th>\n",
              "      <th>3 Yr</th>\n",
              "      <th>5 Yr</th>\n",
              "      <th>7 Yr</th>\n",
              "      <th>10 Yr</th>\n",
              "      <th>20 Yr</th>\n",
              "      <th>30 Yr</th>\n",
              "    </tr>\n",
              "    <tr>\n",
              "      <th>Date</th>\n",
              "      <th></th>\n",
              "      <th></th>\n",
              "      <th></th>\n",
              "      <th></th>\n",
              "      <th></th>\n",
              "      <th></th>\n",
              "      <th></th>\n",
              "      <th></th>\n",
              "      <th></th>\n",
              "      <th></th>\n",
              "      <th></th>\n",
              "    </tr>\n",
              "  </thead>\n",
              "  <tbody>\n",
              "    <tr>\n",
              "      <th>2015-01-02</th>\n",
              "      <td>0.02</td>\n",
              "      <td>0.02</td>\n",
              "      <td>0.11</td>\n",
              "      <td>0.25</td>\n",
              "      <td>0.66</td>\n",
              "      <td>1.07</td>\n",
              "      <td>1.61</td>\n",
              "      <td>1.92</td>\n",
              "      <td>2.12</td>\n",
              "      <td>2.41</td>\n",
              "      <td>2.69</td>\n",
              "    </tr>\n",
              "    <tr>\n",
              "      <th>2015-01-05</th>\n",
              "      <td>0.02</td>\n",
              "      <td>0.03</td>\n",
              "      <td>0.10</td>\n",
              "      <td>0.26</td>\n",
              "      <td>0.68</td>\n",
              "      <td>1.06</td>\n",
              "      <td>1.57</td>\n",
              "      <td>1.85</td>\n",
              "      <td>2.04</td>\n",
              "      <td>2.32</td>\n",
              "      <td>2.60</td>\n",
              "    </tr>\n",
              "    <tr>\n",
              "      <th>2015-01-06</th>\n",
              "      <td>0.02</td>\n",
              "      <td>0.03</td>\n",
              "      <td>0.10</td>\n",
              "      <td>0.25</td>\n",
              "      <td>0.65</td>\n",
              "      <td>1.02</td>\n",
              "      <td>1.50</td>\n",
              "      <td>1.78</td>\n",
              "      <td>1.97</td>\n",
              "      <td>2.25</td>\n",
              "      <td>2.52</td>\n",
              "    </tr>\n",
              "    <tr>\n",
              "      <th>2015-01-07</th>\n",
              "      <td>0.02</td>\n",
              "      <td>0.03</td>\n",
              "      <td>0.09</td>\n",
              "      <td>0.25</td>\n",
              "      <td>0.62</td>\n",
              "      <td>1.00</td>\n",
              "      <td>1.47</td>\n",
              "      <td>1.76</td>\n",
              "      <td>1.96</td>\n",
              "      <td>2.25</td>\n",
              "      <td>2.52</td>\n",
              "    </tr>\n",
              "    <tr>\n",
              "      <th>2015-01-08</th>\n",
              "      <td>0.01</td>\n",
              "      <td>0.03</td>\n",
              "      <td>0.08</td>\n",
              "      <td>0.23</td>\n",
              "      <td>0.62</td>\n",
              "      <td>1.00</td>\n",
              "      <td>1.50</td>\n",
              "      <td>1.81</td>\n",
              "      <td>2.03</td>\n",
              "      <td>2.33</td>\n",
              "      <td>2.59</td>\n",
              "    </tr>\n",
              "  </tbody>\n",
              "</table>\n",
              "</div>"
            ],
            "text/plain": [
              "            1 Mo  3 Mo  6 Mo  1 Yr  2 Yr  3 Yr  5 Yr  7 Yr  10 Yr  20 Yr  30 Yr\n",
              "Date                                                                           \n",
              "2015-01-02  0.02  0.02  0.11  0.25  0.66  1.07  1.61  1.92   2.12   2.41   2.69\n",
              "2015-01-05  0.02  0.03  0.10  0.26  0.68  1.06  1.57  1.85   2.04   2.32   2.60\n",
              "2015-01-06  0.02  0.03  0.10  0.25  0.65  1.02  1.50  1.78   1.97   2.25   2.52\n",
              "2015-01-07  0.02  0.03  0.09  0.25  0.62  1.00  1.47  1.76   1.96   2.25   2.52\n",
              "2015-01-08  0.01  0.03  0.08  0.23  0.62  1.00  1.50  1.81   2.03   2.33   2.59"
            ]
          },
          "metadata": {
            "tags": []
          },
          "execution_count": 5
        }
      ]
    },
    {
      "cell_type": "code",
      "metadata": {
        "id": "Qn1d5orubkRJ",
        "colab_type": "code",
        "colab": {}
      },
      "source": [
        "test_data = interest_rate['2019'].dropna()\n",
        "train_data = interest_rate[~interest_rate.isin(test_data)].dropna()\n",
        "\n"
      ],
      "execution_count": 0,
      "outputs": []
    },
    {
      "cell_type": "code",
      "metadata": {
        "id": "ZdIaQ65BcZVA",
        "colab_type": "code",
        "colab": {}
      },
      "source": [
        "svm = OneClassSVM(kernel='rbf', nu=0.05, gamma=0.0001) \n",
        "svm.fit(train_data)\n",
        "y_pred=svm.predict(test_data)\n",
        "\n",
        "value, count = np.unique(y_pred, return_counts = True)\n",
        "outlier = test_data[y_pred == -1]"
      ],
      "execution_count": 0,
      "outputs": []
    },
    {
      "cell_type": "code",
      "metadata": {
        "id": "KO8yzO1gRSYs",
        "colab_type": "code",
        "outputId": "2a23ae0d-fee3-4349-8f5a-df7689eaed65",
        "colab": {
          "base_uri": "https://localhost:8080/",
          "height": 296
        }
      },
      "source": [
        "x = test_data.index\n",
        "y = test_data.iloc[:,3]\n",
        "colors = np.array(['#377eb8', '#ff7f00'])\n",
        "plt.scatter(x, y, alpha=0.7, c=colors[(y_pred + 1) // 2]) \n",
        "plt.xlabel('date') \n",
        "plt.ylabel('1_year_rate')"
      ],
      "execution_count": 0,
      "outputs": [
        {
          "output_type": "execute_result",
          "data": {
            "text/plain": [
              "Text(0, 0.5, '1_year_rate')"
            ]
          },
          "metadata": {
            "tags": []
          },
          "execution_count": 10
        },
        {
          "output_type": "display_data",
          "data": {
            "image/png": "[encoded data removed]",
            "text/plain": [
              "<Figure size 432x288 with 1 Axes>"
            ]
          },
          "metadata": {
            "tags": [],
            "needs_background": "light"
          }
        }
      ]
    },
    {
      "cell_type": "code",
      "metadata": {
        "id": "Kx8L5mK7RSdZ",
        "colab_type": "code",
        "outputId": "758580fd-e6b5-4e11-e7ba-76469c421ea8",
        "colab": {
          "base_uri": "https://localhost:8080/",
          "height": 235
        }
      },
      "source": [
        "outlier\n"
      ],
      "execution_count": 0,
      "outputs": [
        {
          "output_type": "execute_result",
          "data": {
            "text/html": [
              "<div>\n",
              "<style scoped>\n",
              "    .dataframe tbody tr th:only-of-type {\n",
              "        vertical-align: middle;\n",
              "    }\n",
              "\n",
              "    .dataframe tbody tr th {\n",
              "        vertical-align: top;\n",
              "    }\n",
              "\n",
              "    .dataframe thead th {\n",
              "        text-align: right;\n",
              "    }\n",
              "</style>\n",
              "<table border=\"1\" class=\"dataframe\">\n",
              "  <thead>\n",
              "    <tr style=\"text-align: right;\">\n",
              "      <th></th>\n",
              "      <th>1 Mo</th>\n",
              "      <th>3 Mo</th>\n",
              "      <th>6 Mo</th>\n",
              "      <th>1 Yr</th>\n",
              "      <th>2 Yr</th>\n",
              "      <th>3 Yr</th>\n",
              "      <th>5 Yr</th>\n",
              "      <th>7 Yr</th>\n",
              "      <th>10 Yr</th>\n",
              "      <th>20 Yr</th>\n",
              "      <th>30 Yr</th>\n",
              "    </tr>\n",
              "    <tr>\n",
              "      <th>Date</th>\n",
              "      <th></th>\n",
              "      <th></th>\n",
              "      <th></th>\n",
              "      <th></th>\n",
              "      <th></th>\n",
              "      <th></th>\n",
              "      <th></th>\n",
              "      <th></th>\n",
              "      <th></th>\n",
              "      <th></th>\n",
              "      <th></th>\n",
              "    </tr>\n",
              "  </thead>\n",
              "  <tbody>\n",
              "    <tr>\n",
              "      <th>2019-01-18</th>\n",
              "      <td>2.40</td>\n",
              "      <td>2.41</td>\n",
              "      <td>2.50</td>\n",
              "      <td>2.60</td>\n",
              "      <td>2.62</td>\n",
              "      <td>2.60</td>\n",
              "      <td>2.62</td>\n",
              "      <td>2.70</td>\n",
              "      <td>2.79</td>\n",
              "      <td>-1.00</td>\n",
              "      <td>3.09</td>\n",
              "    </tr>\n",
              "    <tr>\n",
              "      <th>2019-02-14</th>\n",
              "      <td>2.45</td>\n",
              "      <td>2.43</td>\n",
              "      <td>2.51</td>\n",
              "      <td>-1.00</td>\n",
              "      <td>2.50</td>\n",
              "      <td>2.48</td>\n",
              "      <td>2.48</td>\n",
              "      <td>2.56</td>\n",
              "      <td>2.66</td>\n",
              "      <td>2.85</td>\n",
              "      <td>3.01</td>\n",
              "    </tr>\n",
              "    <tr>\n",
              "      <th>2019-05-28</th>\n",
              "      <td>2.35</td>\n",
              "      <td>2.37</td>\n",
              "      <td>2.38</td>\n",
              "      <td>2.31</td>\n",
              "      <td>2.12</td>\n",
              "      <td>-1.00</td>\n",
              "      <td>2.06</td>\n",
              "      <td>2.16</td>\n",
              "      <td>2.26</td>\n",
              "      <td>2.52</td>\n",
              "      <td>2.70</td>\n",
              "    </tr>\n",
              "    <tr>\n",
              "      <th>2019-10-02</th>\n",
              "      <td>1.75</td>\n",
              "      <td>1.79</td>\n",
              "      <td>1.75</td>\n",
              "      <td>1.67</td>\n",
              "      <td>1.48</td>\n",
              "      <td>1.43</td>\n",
              "      <td>1.43</td>\n",
              "      <td>1.53</td>\n",
              "      <td>1.60</td>\n",
              "      <td>1.90</td>\n",
              "      <td>-1.00</td>\n",
              "    </tr>\n",
              "    <tr>\n",
              "      <th>2019-12-18</th>\n",
              "      <td>1.56</td>\n",
              "      <td>1.56</td>\n",
              "      <td>1.58</td>\n",
              "      <td>1.54</td>\n",
              "      <td>1.63</td>\n",
              "      <td>1.67</td>\n",
              "      <td>1.74</td>\n",
              "      <td>1.86</td>\n",
              "      <td>-1.00</td>\n",
              "      <td>2.22</td>\n",
              "      <td>2.35</td>\n",
              "    </tr>\n",
              "  </tbody>\n",
              "</table>\n",
              "</div>"
            ],
            "text/plain": [
              "            1 Mo  3 Mo  6 Mo  1 Yr  2 Yr  3 Yr  5 Yr  7 Yr  10 Yr  20 Yr  30 Yr\n",
              "Date                                                                           \n",
              "2019-01-18  2.40  2.41  2.50  2.60  2.62  2.60  2.62  2.70   2.79  -1.00   3.09\n",
              "2019-02-14  2.45  2.43  2.51 -1.00  2.50  2.48  2.48  2.56   2.66   2.85   3.01\n",
              "2019-05-28  2.35  2.37  2.38  2.31  2.12 -1.00  2.06  2.16   2.26   2.52   2.70\n",
              "2019-10-02  1.75  1.79  1.75  1.67  1.48  1.43  1.43  1.53   1.60   1.90  -1.00\n",
              "2019-12-18  1.56  1.56  1.58  1.54  1.63  1.67  1.74  1.86  -1.00   2.22   2.35"
            ]
          },
          "metadata": {
            "tags": []
          },
          "execution_count": 9
        }
      ]
    },
    {
      "cell_type": "code",
      "metadata": {
        "id": "WfAaloVVRSfr",
        "colab_type": "code",
        "colab": {}
      },
      "source": [
        ""
      ],
      "execution_count": 0,
      "outputs": []
    },
    {
      "cell_type": "code",
      "metadata": {
        "id": "IX4Ah6hQRSla",
        "colab_type": "code",
        "colab": {}
      },
      "source": [
        ""
      ],
      "execution_count": 0,
      "outputs": []
    }
  ]
}