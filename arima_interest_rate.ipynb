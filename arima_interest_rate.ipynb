{
  "nbformat": 4,
  "nbformat_minor": 0,
  "metadata": {
    "colab": {
      "name": "arima_interest_rate.ipynb",
      "provenance": [],
      "authorship_tag": "ABX9TyPbov7zsEotM22sZ2Un/Jlk",
      "include_colab_link": true
    },
    "kernelspec": {
      "name": "python3",
      "display_name": "Python 3"
    }
  },
  "cells": [
    {
      "cell_type": "markdown",
      "metadata": {
        "id": "view-in-github",
        "colab_type": "text"
      },
      "source": [
        "<a href=\"https://colab.research.google.com/github/shirleysheng/anomaly_detection/blob/master/arima_interest_rate.ipynb\" target=\"_parent\"><img src=\"https://colab.research.google.com/assets/colab-badge.svg\" alt=\"Open In Colab\"/></a>"
      ]
    },
    {
      "cell_type": "code",
      "metadata": {
        "id": "ViI8sXLIcDAn",
        "colab_type": "code",
        "colab": {
          "base_uri": "https://localhost:8080/",
          "height": 590
        },
        "outputId": "30009902-17e3-414f-f52a-0e4eb1e582bd"
      },
      "source": [
        "import pandas as pd\n",
        "from statsmodels.tsa.stattools import adfuller\n",
        "import matplotlib.pyplot as plt\n",
        "\n",
        "\n",
        "data = pd.read_csv('/content/IRs.csv',index_col=0)\n",
        "data.index = pd.to_datetime(data.index)\n",
        "interest_rate = data.iloc[:,3].dropna()\n",
        "\n",
        "# Draw Plot\n",
        "interest_rate.plot(figsize=(16, 5))\n",
        "plt.show()\n",
        "\n",
        "\n",
        "#test stationary\n",
        "result_orig = adfuller(interest_rate)\n",
        "print('ADF Statistic: %f' % result_orig[0])\n",
        "print('p-value: %f' % result_orig[1])\n",
        "output = pd.Series(result_orig[0:4],index=['Test Statistics','p-value','No. of lags used','Number of observations used'])\n",
        "print(output)\n",
        "# Therefore, we need to reject H0: this data is far from stationary\n",
        "\n",
        "\n",
        "#Making the time series stationary\n",
        "interest_rate_diff = interest_rate.diff().dropna()\n",
        "result_diff = adfuller(interest_rate_diff)\n",
        "print('ADF Statistic: %f' % result_diff[0])\n",
        "print('p-value: %f' % result_diff[1])\n",
        "output_diff = pd.Series(result_diff[0:4],index=['Test Statistics','p-value','No. of lags used','Number of observations used'])\n",
        "print(output_diff)"
      ],
      "execution_count": 1,
      "outputs": [
        {
          "output_type": "stream",
          "text": [
            "/usr/local/lib/python3.6/dist-packages/statsmodels/tools/_testing.py:19: FutureWarning: pandas.util.testing is deprecated. Use the functions in the public API at pandas.testing instead.\n",
            "  import pandas.util.testing as tm\n"
          ],
          "name": "stderr"
        },
        {
          "output_type": "display_data",
          "data": {
            "image/png": "[encoded data removed]",
            "text/plain": [
              "<Figure size 1152x360 with 1 Axes>"
            ]
          },
          "metadata": {
            "tags": [],
            "needs_background": "light"
          }
        },
        {
          "output_type": "stream",
          "text": [
            "ADF Statistic: -1.333851\n",
            "p-value: 0.613547\n",
            "Test Statistics                  -1.333851\n",
            "p-value                           0.613547\n",
            "No. of lags used                 11.000000\n",
            "Number of observations used    1238.000000\n",
            "dtype: float64\n",
            "ADF Statistic: -15.846170\n",
            "p-value: 0.000000\n",
            "Test Statistics               -1.584617e+01\n",
            "p-value                        9.565999e-29\n",
            "No. of lags used               1.000000e+01\n",
            "Number of observations used    1.238000e+03\n",
            "dtype: float64\n"
          ],
          "name": "stdout"
        }
      ]
    },
    {
      "cell_type": "code",
      "metadata": {
        "id": "jwU5nr7kcDuK",
        "colab_type": "code",
        "colab": {}
      },
      "source": [
        "#divide train and test\n",
        "#test_data = interest_rate_diff['2019']\n",
        "#train_data = interest_rate_diff[~interest_rate_diff.isin(test_data)]\n",
        "\n",
        "test_data = interest_rate['2019']\n",
        "train_data = interest_rate[~interest_rate.isin(test_data)]"
      ],
      "execution_count": 0,
      "outputs": []
    },
    {
      "cell_type": "code",
      "metadata": {
        "id": "XmeKPUplcD8F",
        "colab_type": "code",
        "colab": {
          "base_uri": "https://localhost:8080/",
          "height": 255
        },
        "outputId": "bd9e768a-4ad9-4da4-b990-4c24f718d981"
      },
      "source": [
        "from pmdarima.arima import auto_arima\n",
        "model = auto_arima(train_data.values, start_p=1, start_q=1,\n",
        "                      test='adf',       # use adftest to find optimal 'd'\n",
        "                      max_p=5, max_q=5, # maximum p and q\n",
        "                      m=1,              # frequency of series\n",
        "                      d=None,           # let model determine 'd'\n",
        "                      seasonal=False,   # No Seasonality\n",
        "                      start_P=0, \n",
        "                      D=0, \n",
        "                      trace=True,\n",
        "                      error_action='ignore',  \n",
        "                      suppress_warnings=True, \n",
        "                      stepwise=True)\n"
      ],
      "execution_count": 11,
      "outputs": [
        {
          "output_type": "stream",
          "text": [
            "Performing stepwise search to minimize aic\n",
            "Fit ARIMA(1,1,1)x(0,0,0,0) [intercept=True]; AIC=-3976.502, BIC=-3957.559, Time=0.736 seconds\n",
            "Fit ARIMA(0,1,0)x(0,0,0,0) [intercept=True]; AIC=-3972.228, BIC=-3962.756, Time=0.125 seconds\n",
            "Fit ARIMA(1,1,0)x(0,0,0,0) [intercept=True]; AIC=-3971.020, BIC=-3956.813, Time=0.117 seconds\n",
            "Fit ARIMA(0,1,1)x(0,0,0,0) [intercept=True]; AIC=-3970.896, BIC=-3956.688, Time=0.419 seconds\n",
            "Fit ARIMA(0,1,0)x(0,0,0,0) [intercept=False]; AIC=-3961.407, BIC=-3956.671, Time=0.086 seconds\n",
            "Fit ARIMA(2,1,1)x(0,0,0,0) [intercept=True]; AIC=-3977.764, BIC=-3954.085, Time=0.473 seconds\n",
            "Fit ARIMA(2,1,0)x(0,0,0,0) [intercept=True]; AIC=-3976.491, BIC=-3957.548, Time=0.135 seconds\n",
            "Fit ARIMA(3,1,1)x(0,0,0,0) [intercept=True]; AIC=-3974.598, BIC=-3946.183, Time=0.408 seconds\n",
            "Fit ARIMA(2,1,2)x(0,0,0,0) [intercept=True]; AIC=-3975.791, BIC=-3947.376, Time=0.657 seconds\n",
            "Fit ARIMA(1,1,2)x(0,0,0,0) [intercept=True]; AIC=-3977.510, BIC=-3953.831, Time=0.446 seconds\n",
            "Fit ARIMA(3,1,0)x(0,0,0,0) [intercept=True]; AIC=-3976.620, BIC=-3952.941, Time=0.238 seconds\n",
            "Fit ARIMA(3,1,2)x(0,0,0,0) [intercept=True]; AIC=-3974.125, BIC=-3940.975, Time=1.074 seconds\n",
            "Total fit time: 4.935 seconds\n"
          ],
          "name": "stdout"
        }
      ]
    },
    {
      "cell_type": "code",
      "metadata": {
        "id": "p-YGTCTXcD_D",
        "colab_type": "code",
        "colab": {}
      },
      "source": [
        ""
      ],
      "execution_count": 0,
      "outputs": []
    },
    {
      "cell_type": "code",
      "metadata": {
        "id": "Q6jpgBFFsHXY",
        "colab_type": "code",
        "colab": {}
      },
      "source": [
        "from sklearn.metrics import mean_squared_error\n",
        "from matplotlib import pyplot\n",
        "history = [x for x in train_data]\n",
        "predictions = list()\n",
        "predict=list()\n"
      ],
      "execution_count": 0,
      "outputs": []
    },
    {
      "cell_type": "code",
      "metadata": {
        "id": "MtPd8-IXvHQ3",
        "colab_type": "code",
        "colab": {}
      },
      "source": [
        "for t in range(len(test_data)):\n",
        "    model.fit(history)\n",
        "    output = model.predict(n_periods=1)\n",
        "    predict.append(output[0])\n",
        "    yhat = output[0]\n",
        "    predictions.append(yhat)\n",
        "    obs = test_data[t]\n",
        "    history.append(obs)\n",
        "\n"
      ],
      "execution_count": 0,
      "outputs": []
    },
    {
      "cell_type": "code",
      "metadata": {
        "id": "cNRBy50JvKYF",
        "colab_type": "code",
        "colab": {
          "base_uri": "https://localhost:8080/",
          "height": 34
        },
        "outputId": "f6284d94-9493-4198-e8f3-4b007819584b"
      },
      "source": [
        "error = mean_squared_error(test_data, predictions)\n",
        "print('Test MSE: %.3f' % error)"
      ],
      "execution_count": 14,
      "outputs": [
        {
          "output_type": "stream",
          "text": [
            "Test MSE: 0.230\n"
          ],
          "name": "stdout"
        }
      ]
    },
    {
      "cell_type": "code",
      "metadata": {
        "id": "hM1jlWzqcEBY",
        "colab_type": "code",
        "colab": {
          "base_uri": "https://localhost:8080/",
          "height": 320
        },
        "outputId": "d8b73ca8-f2a9-4fb3-884d-2fedec79739c"
      },
      "source": [
        "figsize=(10, 5)\n",
        "plt.figure(figsize=figsize)\n",
        "pyplot.plot(test_data.values,label='Actuals')\n",
        "pyplot.plot(predictions, color='red',label='Predicted')\n",
        "pyplot.legend(loc='upper right')\n",
        "pyplot.show()\n",
        "\n",
        "date = []\n",
        "for i in range(len(test_data)):\n",
        "    if abs(test_data[i] - predictions[i]) >1:\n",
        "        date_temp = test_data.index[i]\n",
        "        date.append(date_temp)"
      ],
      "execution_count": 15,
      "outputs": [
        {
          "output_type": "display_data",
          "data": {
            "image/png": "[encoded data removed]",
            "text/plain": [
              "<Figure size 720x360 with 1 Axes>"
            ]
          },
          "metadata": {
            "tags": [],
            "needs_background": "light"
          }
        }
      ]
    },
    {
      "cell_type": "code",
      "metadata": {
        "id": "u6Z_VRSUcEDr",
        "colab_type": "code",
        "colab": {}
      },
      "source": [
        ""
      ],
      "execution_count": 0,
      "outputs": []
    },
    {
      "cell_type": "code",
      "metadata": {
        "id": "yO5m2MrdcEFc",
        "colab_type": "code",
        "colab": {}
      },
      "source": [
        ""
      ],
      "execution_count": 0,
      "outputs": []
    },
    {
      "cell_type": "code",
      "metadata": {
        "id": "xcXJhkC5cEJe",
        "colab_type": "code",
        "colab": {}
      },
      "source": [
        ""
      ],
      "execution_count": 0,
      "outputs": []
    },
    {
      "cell_type": "code",
      "metadata": {
        "id": "8FmB0viecEPC",
        "colab_type": "code",
        "colab": {}
      },
      "source": [
        ""
      ],
      "execution_count": 0,
      "outputs": []
    }
  ]
}